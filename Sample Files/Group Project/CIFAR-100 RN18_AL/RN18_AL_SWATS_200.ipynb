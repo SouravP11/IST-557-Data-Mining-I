{
 "cells": [
  {
   "cell_type": "markdown",
   "metadata": {},
   "source": [
    "Imports"
   ]
  },
  {
   "cell_type": "code",
   "execution_count": null,
   "metadata": {},
   "outputs": [],
   "source": [
    "import torch\n",
    "import torch.nn as nn\n",
    "import torch.optim as optim\n",
    "from torchvision import datasets, models, transforms\n",
    "from torch.utils.data import DataLoader, random_split\n",
    "import numpy as np\n",
    "import random\n",
    "from sklearn.metrics import f1_score, recall_score\n",
    "import matplotlib.pyplot as plt\n",
    "import os\n",
    "import json"
   ]
  },
  {
   "cell_type": "markdown",
   "metadata": {},
   "source": [
    "Device Configuration"
   ]
  },
  {
   "cell_type": "code",
   "execution_count": null,
   "metadata": {},
   "outputs": [],
   "source": [
    "# Set device\n",
    "device = torch.device(\"cuda:0\" if torch.cuda.is_available() else \"cpu\")\n",
    "print(f\"device: {device}\")"
   ]
  },
  {
   "cell_type": "markdown",
   "metadata": {},
   "source": [
    "Data Prep"
   ]
  },
  {
   "cell_type": "code",
   "execution_count": null,
   "metadata": {},
   "outputs": [],
   "source": [
    "# Download and load the CIFAR-100 dataset\n",
    "transform = transforms.Compose([transforms.ToTensor(), transforms.Normalize((0.5, 0.5, 0.5), (0.5, 0.5, 0.5))])\n",
    "train_set = datasets.CIFAR100(root='../data', train=True, download=True, transform=transform)\n",
    "test_set = datasets.CIFAR100(root='../data', train=False, download=True, transform=transform)\n",
    "\n",
    "# Split train data into train and validation\n",
    "train_size = int(0.8 * len(train_set))\n",
    "val_size = len(train_set) - train_size\n",
    "train_dataset, val_dataset = random_split(train_set, [train_size, val_size])\n",
    "\n",
    "batch_size = 1024\n",
    "train_loader = DataLoader(train_dataset, batch_size=batch_size, shuffle=True, num_workers=2)\n",
    "val_loader = DataLoader(val_dataset, batch_size=batch_size, shuffle=False, num_workers=2)\n",
    "test_loader = DataLoader(test_set, batch_size=batch_size, shuffle=False, num_workers=2)"
   ]
  },
  {
   "cell_type": "markdown",
   "metadata": {},
   "source": [
    "Set Random Seed"
   ]
  },
  {
   "cell_type": "code",
   "execution_count": null,
   "metadata": {},
   "outputs": [],
   "source": [
    "# Function to set a random seed for reproducibility\n",
    "def set_seed(seed=None):\n",
    "    if seed is None:\n",
    "        seed = np.random.randint(0, 10000)\n",
    "    random.seed(seed)\n",
    "    np.random.seed(seed)\n",
    "    torch.manual_seed(seed)\n",
    "    torch.cuda.manual_seed_all(seed)\n",
    "    return seed"
   ]
  },
  {
   "cell_type": "markdown",
   "metadata": {},
   "source": [
    "Validation"
   ]
  },
  {
   "cell_type": "code",
   "execution_count": null,
   "metadata": {},
   "outputs": [],
   "source": [
    "# Function for validation\n",
    "def validate(net, val_loader, criterion):\n",
    "    total_loss = 0.0\n",
    "    with torch.no_grad():\n",
    "        for data in val_loader:\n",
    "            images, labels = data[0].to(device), data[1].to(device)\n",
    "            outputs = net(images)\n",
    "            loss = criterion(outputs, labels)\n",
    "            total_loss += loss.item()\n",
    "    return total_loss / len(val_loader)"
   ]
  },
  {
   "cell_type": "markdown",
   "metadata": {},
   "source": [
    "Calculate Test Error"
   ]
  },
  {
   "cell_type": "code",
   "execution_count": null,
   "metadata": {},
   "outputs": [],
   "source": [
    "# Function to calculate test error\n",
    "def calculate_test_error(net, test_loader):\n",
    "    net.eval()\n",
    "    correct = 0\n",
    "    total = 0\n",
    "    with torch.no_grad():\n",
    "        for data in test_loader:\n",
    "            images, labels = data[0].to(device), data[1].to(device)\n",
    "            outputs = net(images)\n",
    "            _, predicted = torch.max(outputs.data, 1)\n",
    "            total += labels.size(0)\n",
    "            correct += (predicted == labels).sum().item()\n",
    "    test_accuracy = 100 * correct / total\n",
    "    return 100 - test_accuracy  # Test error"
   ]
  },
  {
   "cell_type": "markdown",
   "metadata": {},
   "source": [
    "Train Model"
   ]
  },
  {
   "cell_type": "code",
   "execution_count": null,
   "metadata": {},
   "outputs": [],
   "source": [
    "# Function for training\n",
    "def train_model(net, train_loader, val_loader, test_loader, criterion, optimizer, epochs):\n",
    "    train_losses = []\n",
    "    val_losses = []\n",
    "    test_errors = []\n",
    "    for epoch in range(epochs):\n",
    "        running_loss = 0.0\n",
    "        for i, data in enumerate(train_loader, 0):\n",
    "            inputs, labels = data[0].to(device), data[1].to(device)\n",
    "\n",
    "            optimizer.zero_grad()\n",
    "\n",
    "            outputs = net(inputs)\n",
    "            loss = criterion(outputs, labels)\n",
    "            loss.backward()\n",
    "            optimizer.step()\n",
    "\n",
    "            running_loss += loss.item()\n",
    "        \n",
    "        train_losses.append(running_loss / len(train_loader))\n",
    "        val_loss = validate(net, val_loader, criterion)\n",
    "        val_losses.append(val_loss)\n",
    "        test_error = calculate_test_error(net, test_loader)\n",
    "        test_errors.append(test_error)\n",
    "        print(f'Epoch {epoch + 1}/{epochs}, Train Loss: {train_losses[-1]}, Validation Loss: {val_losses[-1]}, Test Error: {test_errors[-1]}')\n",
    "\n",
    "    return train_losses, val_losses, test_errors"
   ]
  },
  {
   "cell_type": "markdown",
   "metadata": {},
   "source": [
    "Metrics Calculation"
   ]
  },
  {
   "cell_type": "code",
   "execution_count": null,
   "metadata": {},
   "outputs": [],
   "source": [
    "# Function to calculate accuracy, F1 score, and recall\n",
    "def calculate_metrics(net, loader):\n",
    "    net.eval()\n",
    "    correct = 0\n",
    "    total = 0\n",
    "    all_labels = []\n",
    "    all_predictions = []\n",
    "    \n",
    "    with torch.no_grad():\n",
    "        for data in loader:\n",
    "            images, labels = data[0].to(device), data[1].to(device)\n",
    "            outputs = net(images)\n",
    "            _, predicted = torch.max(outputs.data, 1)\n",
    "            total += labels.size(0)\n",
    "            correct += (predicted == labels).sum().item()\n",
    "            all_labels.extend(labels.cpu().numpy())\n",
    "            all_predictions.extend(predicted.cpu().numpy())\n",
    "\n",
    "    accuracy = 100 * correct / total\n",
    "    f1 = f1_score(all_labels, all_predictions, average='weighted')\n",
    "    recall = recall_score(all_labels, all_predictions, average='weighted')\n",
    "    return accuracy, f1, recall"
   ]
  },
  {
   "cell_type": "markdown",
   "metadata": {},
   "source": [
    "Model Architecture"
   ]
  },
  {
   "cell_type": "code",
   "execution_count": null,
   "metadata": {},
   "outputs": [],
   "source": [
    "# ResNet-18 with SE block\n",
    "\n",
    "# SE block\n",
    "class SEBlock(nn.Module):\n",
    "    def __init__(self, channel, reduction=16):\n",
    "        super(SEBlock, self).__init__()\n",
    "        self.avg_pool = nn.AdaptiveAvgPool2d(1)\n",
    "        self.fc = nn.Sequential(\n",
    "            nn.Linear(channel, channel // reduction, bias=False),\n",
    "            nn.ReLU(inplace=True),\n",
    "            nn.Linear(channel // reduction, channel, bias=False),\n",
    "            nn.Sigmoid()\n",
    "        )\n",
    "\n",
    "    def forward(self, x):\n",
    "        b, c, _, _ = x.size()\n",
    "        y = self.avg_pool(x).view(b, c)\n",
    "        y = self.fc(y).view(b, c, 1, 1)\n",
    "        return x * y.expand_as(x)\n",
    "\n",
    "\n",
    "def initialize_model(device):\n",
    "    net = models.resnet18(weights=None)\n",
    "    num_features = net.fc.in_features\n",
    "\n",
    "    # Adding an SE block\n",
    "    net.avgpool = nn.Sequential(net.avgpool, SEBlock(num_features))\n",
    "\n",
    "    # Adjusting for 100 classes in CIFAR-100\n",
    "    net.fc = torch.nn.Linear(num_features, 100)\n",
    "    net = net.to(device)\n",
    "\n",
    "    return net"
   ]
  },
  {
   "cell_type": "markdown",
   "metadata": {},
   "source": [
    "Loss Function"
   ]
  },
  {
   "cell_type": "code",
   "execution_count": null,
   "metadata": {},
   "outputs": [],
   "source": [
    "def initialize_loss_function():\n",
    "    return nn.CrossEntropyLoss()"
   ]
  },
  {
   "cell_type": "markdown",
   "metadata": {},
   "source": [
    "Optimizer"
   ]
  },
  {
   "cell_type": "code",
   "execution_count": null,
   "metadata": {},
   "outputs": [],
   "source": [
    "import swats\n",
    "\n",
    "def initialize_optimizer(model_params):\n",
    "    return swats.SWATS(model_params)"
   ]
  },
  {
   "cell_type": "markdown",
   "metadata": {},
   "source": [
    "Run"
   ]
  },
  {
   "cell_type": "code",
   "execution_count": null,
   "metadata": {},
   "outputs": [],
   "source": [
    "# Run the training for 5 different seeds\n",
    "num_runs = 5\n",
    "epochs = 200\n",
    "metrics = {\n",
    "    'seed': [],\n",
    "    'train_losses': [],\n",
    "    'val_losses': [],\n",
    "    'test_errors': [],\n",
    "    'val_accuracy': [],\n",
    "    'val_f1': [],\n",
    "    'val_recall': [],\n",
    "    'test_accuracy': [],\n",
    "    'test_f1': [],\n",
    "    'test_recall': []\n",
    "}\n",
    "\n",
    "\n",
    "\n",
    "# Initialize dictionaries to store results\n",
    "results = {\n",
    "    'train_losses': [],\n",
    "    'val_losses': [],\n",
    "    'test_errors': []\n",
    "}\n",
    "\n",
    "for run in range(num_runs):\n",
    "    print(f\"Run: {run + 1}\")\n",
    "    seed = set_seed()\n",
    "    print(f\"Seed: {seed}\")\n",
    "\n",
    "    # Reinitialize the model, loss function, and optimizer\n",
    "    net = initialize_model(device=device)\n",
    "    criterion = initialize_loss_function()\n",
    "    optimizer = initialize_optimizer(model_params=net.parameters())\n",
    "\n",
    "    # Train the network\n",
    "    train_losses, val_losses, test_errors = train_model(net, train_loader, val_loader, test_loader, criterion, optimizer, epochs)\n",
    "    metrics['test_errors'].append(test_errors)\n",
    "\n",
    "    # Calculate metrics on validation and test sets\n",
    "    val_accuracy, val_f1, val_recall = calculate_metrics(net, val_loader)\n",
    "    test_accuracy, test_f1, test_recall = calculate_metrics(net, test_loader)\n",
    "    \n",
    "    # Print metrics for validation set\n",
    "    print(f\"Run {run + 1} - Validation Metrics:\")\n",
    "    print(f\"    Accuracy: {val_accuracy}%\")\n",
    "    print(f\"    F1 Score: {val_f1}\")\n",
    "    print(f\"    Recall:   {val_recall}\")\n",
    "\n",
    "    # Print metrics for test set\n",
    "    print(f\"Run {run + 1} - Test Metrics:\")\n",
    "    print(f\"    Accuracy: {test_accuracy}%\")\n",
    "    print(f\"    F1 Score: {test_f1}\")\n",
    "    print(f\"    Recall:   {test_recall}\")\n",
    "    \n",
    "    # Store metrics\n",
    "    metrics['seed'].append(seed)\n",
    "    metrics['train_losses'].append(train_losses)\n",
    "    metrics['val_losses'].append(val_losses)\n",
    "    metrics['val_accuracy'].append(val_accuracy)\n",
    "    metrics['val_f1'].append(val_f1)\n",
    "    metrics['val_recall'].append(val_recall)\n",
    "    metrics['test_accuracy'].append(test_accuracy)\n",
    "    metrics['test_f1'].append(test_f1)\n",
    "    metrics['test_recall'].append(test_recall)\n",
    "    \n",
    "    # Append the results for the current run\n",
    "    results['train_losses'].append(metrics['train_losses'][run])\n",
    "    results['val_losses'].append(metrics['val_losses'][run])\n",
    "    results['test_errors'].append(metrics['test_errors'][run])\n",
    "\n",
    "    # Plot for training and validation loss\n",
    "    plt.figure(figsize=(10, 5))\n",
    "    plt.plot(metrics['train_losses'][run], label='Training Loss')\n",
    "    plt.plot(metrics['val_losses'][run], label='Validation Loss')\n",
    "    plt.title(f\"Training and Validation Loss for Run {run+1}\")\n",
    "    plt.xlabel('Epochs')\n",
    "    plt.ylabel('Loss')\n",
    "    plt.legend()\n",
    "    plt.show()\n",
    "\n",
    "    # Plot for test error\n",
    "    plt.figure(figsize=(10, 5))\n",
    "    plt.plot(metrics['test_errors'][run], label='Test Error')\n",
    "    plt.title(f\"Test Error for Run {run+1}\")\n",
    "    plt.xlabel('Epochs')\n",
    "    plt.ylabel('Error (%)')\n",
    "    plt.legend()\n",
    "    plt.show()"
   ]
  },
  {
   "cell_type": "markdown",
   "metadata": {},
   "source": [
    "Metrics Calculation and Plotting Mean Test Error"
   ]
  },
  {
   "cell_type": "code",
   "execution_count": null,
   "metadata": {},
   "outputs": [],
   "source": [
    "# Calculate mean and standard deviation across runs\n",
    "mean_metrics = {metric: np.mean(metrics[metric]) for metric in metrics if metric not in ['seed', 'train_losses', 'val_losses', 'test_errors']}\n",
    "std_metrics = {metric: np.std(metrics[metric]) for metric in metrics if metric not in ['seed', 'train_losses', 'val_losses', 'test_errors']}\n",
    "\n",
    "# Print mean metrics and standard deviation\n",
    "print(\"Mean Metrics:\", mean_metrics)\n",
    "print(\"Standard Deviation of Metrics:\", std_metrics)\n",
    "\n",
    "# Calculate mean test error across all runs\n",
    "mean_test_errors = np.mean(metrics['test_errors'], axis=0)\n",
    "\n",
    "# Plot mean test error\n",
    "plt.figure(figsize=(10, 5))\n",
    "plt.plot(mean_test_errors, label='Mean Test Error')\n",
    "plt.title(\"Mean Test Error Across All Runs\")\n",
    "plt.xlabel('Epochs')\n",
    "plt.ylabel('Error (%)')\n",
    "plt.legend()\n",
    "plt.show()"
   ]
  },
  {
   "cell_type": "markdown",
   "metadata": {},
   "source": [
    "Save data"
   ]
  },
  {
   "cell_type": "code",
   "execution_count": null,
   "metadata": {},
   "outputs": [],
   "source": [
    "# Directory for saving results\n",
    "save_dir = 'CIFAR_100_RN18_AL_Results'\n",
    "os.makedirs(save_dir, exist_ok=True)\n",
    "\n",
    "# Save the results to a file\n",
    "with open(os.path.join(save_dir, 'SWATS.json'), 'w') as f:\n",
    "    json.dump(results, f)"
   ]
  }
 ],
 "metadata": {
  "kernelspec": {
   "display_name": "Python 3",
   "language": "python",
   "name": "python3"
  },
  "language_info": {
   "codemirror_mode": {
    "name": "ipython",
    "version": 3
   },
   "file_extension": ".py",
   "mimetype": "text/x-python",
   "name": "python",
   "nbconvert_exporter": "python",
   "pygments_lexer": "ipython3",
   "version": "3.11.5"
  }
 },
 "nbformat": 4,
 "nbformat_minor": 2
}
